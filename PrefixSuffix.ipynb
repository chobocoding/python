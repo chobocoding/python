{
  "nbformat": 4,
  "nbformat_minor": 0,
  "metadata": {
    "colab": {
      "name": "PrefixSuffix.ipynb",
      "provenance": [],
      "authorship_tag": "ABX9TyNYEYra/w1uUpZz7tGTjG1x",
      "include_colab_link": true
    },
    "kernelspec": {
      "name": "python3",
      "display_name": "Python 3"
    },
    "language_info": {
      "name": "python"
    }
  },
  "cells": [
    {
      "cell_type": "markdown",
      "metadata": {
        "id": "view-in-github",
        "colab_type": "text"
      },
      "source": [
        "<a href=\"https://colab.research.google.com/github/chobocoding/python/blob/main/PrefixSuffix.ipynb\" target=\"_parent\"><img src=\"https://colab.research.google.com/assets/colab-badge.svg\" alt=\"Open In Colab\"/></a>"
      ]
    },
    {
      "cell_type": "code",
      "execution_count": 8,
      "metadata": {
        "colab": {
          "base_uri": "https://localhost:8080/"
        },
        "id": "1miIM5vMOGYv",
        "outputId": "00ac7266-d99b-4ca5-e53b-9d0cb8f383cb"
      },
      "outputs": [
        {
          "output_type": "stream",
          "name": "stdout",
          "text": [
            "True\n",
            "True\n",
            "False\n"
          ]
        }
      ],
      "source": [
        "# 문자열에서 접두어, 접미어 확인\n",
        "\n",
        "# 접두어 > startswith\n",
        "string = \"Hello, World!\"\n",
        "print(string.startswith(\"H\"))\n",
        "print(string.startswith(\"Hello\"))\n",
        "print(string.startswith(\"World!\"))"
      ]
    },
    {
      "cell_type": "code",
      "source": [
        "# 접미어 > endswith\n",
        "string = \"Hello, World!\"\n",
        "print(string.endswith(\"H\"))\n",
        "print(string.endswith(\"Hello\"))\n",
        "print(string.endswith(\"World!\"))"
      ],
      "metadata": {
        "colab": {
          "base_uri": "https://localhost:8080/"
        },
        "id": "khfUEAIXOtzi",
        "outputId": "91e7217c-4198-445c-a3df-ecdecb9931b7"
      },
      "execution_count": 9,
      "outputs": [
        {
          "output_type": "stream",
          "name": "stdout",
          "text": [
            "False\n",
            "False\n",
            "True\n"
          ]
        }
      ]
    }
  ]
}