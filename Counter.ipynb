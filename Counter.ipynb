{
  "nbformat": 4,
  "nbformat_minor": 0,
  "metadata": {
    "colab": {
      "name": "Untitled8.ipynb",
      "provenance": [],
      "collapsed_sections": [],
      "authorship_tag": "ABX9TyMO4yJgs9RdZbMCjoBQYkN1"
    },
    "kernelspec": {
      "name": "python3",
      "display_name": "Python 3"
    },
    "language_info": {
      "name": "python"
    }
  },
  "cells": [
    {
      "cell_type": "markdown",
      "source": [
        "# Counter로 단어 갯수 세기\n",
        "### from collections import Counter"
      ],
      "metadata": {
        "id": "N2C--MZ5lvfr"
      }
    },
    {
      "cell_type": "code",
      "source": [
        "from collections import Counter\n",
        "numbers = [0, 0, 1, 1, 1, 1, 0, 1, 0, 0, 1, 1, 0, 1, 0, 1, 0, 1, 1 ,1]\n",
        "count_num = Counter(numbers)\n",
        "print(count_num)"
      ],
      "metadata": {
        "colab": {
          "base_uri": "https://localhost:8080/"
        },
        "id": "-9xXQPyVlwMs",
        "outputId": "3584e2bd-b99d-4011-85ff-d81976de64f5"
      },
      "execution_count": null,
      "outputs": [
        {
          "output_type": "stream",
          "name": "stdout",
          "text": [
            "Counter({1: 12, 0: 8})\n"
          ]
        }
      ]
    },
    {
      "cell_type": "markdown",
      "source": [
        "# string도 가능"
      ],
      "metadata": {
        "id": "wJtVzEWAnkNp"
      }
    },
    {
      "cell_type": "code",
      "source": [
        "sample_str = \"abcbcbacabababacbabcabacabacbabacbabababaaacbab\"\n",
        "Counter(sample_str)"
      ],
      "metadata": {
        "colab": {
          "base_uri": "https://localhost:8080/"
        },
        "id": "JGsO64blnjUe",
        "outputId": "33d72178-be9e-445a-ab79-0d23e7ebc036"
      },
      "execution_count": null,
      "outputs": [
        {
          "output_type": "execute_result",
          "data": {
            "text/plain": [
              "Counter({'a': 20, 'b': 18, 'c': 9})"
            ]
          },
          "metadata": {},
          "execution_count": 20
        }
      ]
    },
    {
      "cell_type": "markdown",
      "source": [
        "dictionary를 이용하여 직접 세는 것과 Counter함수를 사용하는 것 중 뭐가 더 빠를까??"
      ],
      "metadata": {
        "id": "7XfDFmZ6mPtr"
      }
    },
    {
      "cell_type": "code",
      "source": [
        "import time\n",
        "numbers = [1, 2, 3, 4, 5, 6] * 10000000\n",
        "\n",
        "count_start = time.time()\n",
        "count_num = Counter(numbers)\n",
        "count_end = time.time()\n",
        "print(count_num)\n",
        "print('Counter Runnung time :', count_end - count_start)\n",
        "\n",
        "dict_start = time.time()\n",
        "dict_num = {}\n",
        "\n",
        "for i in numbers:\n",
        "    try:\n",
        "        dict_num[i] +=1\n",
        "    except:\n",
        "        dict_num[i] = 1\n",
        "dict_end = time.time()\n",
        "print(dict_num)\n",
        "print('dictionary Runnung time :', dict_end - dict_start)"
      ],
      "metadata": {
        "colab": {
          "base_uri": "https://localhost:8080/"
        },
        "id": "hEGqADxYmM-d",
        "outputId": "d63d70c0-4704-493e-c9e9-9e0578097f47"
      },
      "execution_count": null,
      "outputs": [
        {
          "output_type": "stream",
          "name": "stdout",
          "text": [
            "Counter({1: 10000000, 2: 10000000, 3: 10000000, 4: 10000000, 5: 10000000, 6: 10000000})\n",
            "Counter Runnung time : 3.1198461055755615\n",
            "{1: 10000000, 2: 10000000, 3: 10000000, 4: 10000000, 5: 10000000, 6: 10000000}\n",
            "dictionary Runnung time : 9.619833946228027\n"
          ]
        }
      ]
    },
    {
      "cell_type": "markdown",
      "source": [
        "# 결론.. Counter를 쓰자!"
      ],
      "metadata": {
        "id": "znm8HX3AnpXC"
      }
    }
  ]
}