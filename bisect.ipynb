{
  "nbformat": 4,
  "nbformat_minor": 0,
  "metadata": {
    "colab": {
      "name": "bisect.ipynb",
      "provenance": [],
      "collapsed_sections": [],
      "authorship_tag": "ABX9TyMuQEQyBb2x/QN28ggI4WGA",
      "include_colab_link": true
    },
    "kernelspec": {
      "name": "python3",
      "display_name": "Python 3"
    },
    "language_info": {
      "name": "python"
    }
  },
  "cells": [
    {
      "cell_type": "markdown",
      "metadata": {
        "id": "view-in-github",
        "colab_type": "text"
      },
      "source": [
        "<a href=\"https://colab.research.google.com/github/chobocoding/python/blob/main/bisect.ipynb\" target=\"_parent\"><img src=\"https://colab.research.google.com/assets/colab-badge.svg\" alt=\"Open In Colab\"/></a>"
      ]
    },
    {
      "cell_type": "markdown",
      "source": [
        "# bisect : 이진 탐색 알고리즘 > 시간 복잡도 O(logN)\n",
        "bisect 모듈은 이진 탐색 알고리즘을 구현한 모듈이다. bisect.bisect 함수는 정렬된 리스트에 값을 삽입할 때 정렬을 유지할 수 있는 인덱스를 리턴한다."
      ],
      "metadata": {
        "id": "Mx3DmxKUo-A4"
      }
    },
    {
      "cell_type": "markdown",
      "source": [
        "## bisect.bisect(list, value)\n",
        "### 리스트 list에 value값이 들어갈 자리의 인덱스 값 반환"
      ],
      "metadata": {
        "id": "Ce5asLbLrARD"
      }
    },
    {
      "cell_type": "code",
      "source": [
        "import bisect\n",
        "lst = [0, 1, 2, 3, 7]\n",
        "bisect.bisect(lst, 4)"
      ],
      "metadata": {
        "colab": {
          "base_uri": "https://localhost:8080/"
        },
        "id": "s5RocfRuo9nr",
        "outputId": "2fbe1ff7-16ca-4ad1-ec28-bfa9dd6e9b2a"
      },
      "execution_count": 4,
      "outputs": [
        {
          "output_type": "execute_result",
          "data": {
            "text/plain": [
              "4"
            ]
          },
          "metadata": {},
          "execution_count": 4
        }
      ]
    },
    {
      "cell_type": "code",
      "source": [
        "print(bisect.bisect_right(lst, 4))\n",
        "print(bisect.bisect_left(lst, 4))"
      ],
      "metadata": {
        "colab": {
          "base_uri": "https://localhost:8080/"
        },
        "id": "-TVv6F-8o9k3",
        "outputId": "d44e8a65-6908-4a7f-8d83-fba98944311c"
      },
      "execution_count": 5,
      "outputs": [
        {
          "output_type": "stream",
          "name": "stdout",
          "text": [
            "4\n",
            "4\n"
          ]
        }
      ]
    },
    {
      "cell_type": "code",
      "source": [
        "# 리스트에 동일한 값이 존재할 경우\n",
        "print(bisect.bisect(lst, 2))\n",
        "print(bisect.bisect_right(lst, 2))\n",
        "print(bisect.bisect_left(lst, 2))"
      ],
      "metadata": {
        "colab": {
          "base_uri": "https://localhost:8080/"
        },
        "id": "EotdEfVBo9h-",
        "outputId": "46bba60c-7c69-4740-d2ba-84a1e9ec6205"
      },
      "execution_count": 7,
      "outputs": [
        {
          "output_type": "stream",
          "name": "stdout",
          "text": [
            "3\n",
            "3\n",
            "2\n"
          ]
        }
      ]
    },
    {
      "cell_type": "code",
      "source": [
        "# insort > 정렬된 배열에 값 삽입\n",
        "print(lst)\n",
        "bisect.insort(lst, 4)\n",
        "print(lst)"
      ],
      "metadata": {
        "colab": {
          "base_uri": "https://localhost:8080/"
        },
        "id": "OHEnTPg8o9fH",
        "outputId": "d8cf1278-b31b-455e-e1f2-0b1ce4e15a8e"
      },
      "execution_count": 8,
      "outputs": [
        {
          "output_type": "stream",
          "name": "stdout",
          "text": [
            "[0, 1, 2, 3, 7]\n",
            "[0, 1, 2, 3, 4, 7]\n"
          ]
        }
      ]
    }
  ]
}